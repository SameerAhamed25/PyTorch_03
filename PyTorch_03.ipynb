{
  "nbformat": 4,
  "nbformat_minor": 0,
  "metadata": {
    "colab": {
      "provenance": []
    },
    "kernelspec": {
      "name": "python3",
      "display_name": "Python 3"
    },
    "language_info": {
      "name": "python"
    }
  },
  "cells": [
    {
      "cell_type": "markdown",
      "source": [
        "Reshaping, stacking, squeezing, unsqueezing (changing shape and dimensions of a tensor)"
      ],
      "metadata": {
        "id": "vZkz0j37o2m-"
      }
    },
    {
      "cell_type": "code",
      "source": [
        "# reshaping -> reshapes an input tensor to a defined shape\n",
        "import torch\n",
        "x =torch.arange(1, 10.)\n",
        "x, x.shape"
      ],
      "metadata": {
        "colab": {
          "base_uri": "https://localhost:8080/"
        },
        "id": "XsMFklPCo95m",
        "outputId": "23d5a504-be6c-49df-b811-a9b7a162f744"
      },
      "execution_count": 1,
      "outputs": [
        {
          "output_type": "execute_result",
          "data": {
            "text/plain": [
              "(tensor([1., 2., 3., 4., 5., 6., 7., 8., 9.]), torch.Size([9]))"
            ]
          },
          "metadata": {},
          "execution_count": 1
        }
      ]
    },
    {
      "cell_type": "code",
      "source": [
        "# add an extra dimension\n",
        "x_reshape = x.reshape(1, 9)\n",
        "x_reshape"
      ],
      "metadata": {
        "colab": {
          "base_uri": "https://localhost:8080/"
        },
        "id": "IbyaAHt3qQ-w",
        "outputId": "d8888ac5-e0fc-4cc4-b073-16c67773dc84"
      },
      "execution_count": 2,
      "outputs": [
        {
          "output_type": "execute_result",
          "data": {
            "text/plain": [
              "tensor([[1., 2., 3., 4., 5., 6., 7., 8., 9.]])"
            ]
          },
          "metadata": {},
          "execution_count": 2
        }
      ]
    },
    {
      "cell_type": "code",
      "source": [
        "x_reshape = x.reshape(9, 1)\n",
        "x_reshape, x_reshape.shape"
      ],
      "metadata": {
        "colab": {
          "base_uri": "https://localhost:8080/"
        },
        "id": "LqYenP61qyS7",
        "outputId": "cb85c928-df09-4adc-c529-0a9d0b967abb"
      },
      "execution_count": 5,
      "outputs": [
        {
          "output_type": "execute_result",
          "data": {
            "text/plain": [
              "(tensor([[1.],\n",
              "         [2.],\n",
              "         [3.],\n",
              "         [4.],\n",
              "         [5.],\n",
              "         [6.],\n",
              "         [7.],\n",
              "         [8.],\n",
              "         [9.]]),\n",
              " torch.Size([9, 1]))"
            ]
          },
          "metadata": {},
          "execution_count": 5
        }
      ]
    },
    {
      "cell_type": "code",
      "source": [
        "# cahneg the view\n",
        "z = x.view(1, 9)\n",
        "z.shape # view shares the memory with the original tensor(same but diff view)"
      ],
      "metadata": {
        "colab": {
          "base_uri": "https://localhost:8080/"
        },
        "id": "IwJQIFdxq4wv",
        "outputId": "c6f2de9f-190c-40e5-eddd-1caf60c2d629"
      },
      "execution_count": 7,
      "outputs": [
        {
          "output_type": "execute_result",
          "data": {
            "text/plain": [
              "torch.Size([1, 9])"
            ]
          },
          "metadata": {},
          "execution_count": 7
        }
      ]
    },
    {
      "cell_type": "code",
      "source": [
        "# stack tensors on top\n",
        "Xstacked = torch.stack([x, x, x, x], dim=0)\n",
        "Xstacked"
      ],
      "metadata": {
        "colab": {
          "base_uri": "https://localhost:8080/"
        },
        "id": "DkMx3oyPrqHe",
        "outputId": "878d0f5a-8ade-45cb-a8f9-b2eccc2e013b"
      },
      "execution_count": 8,
      "outputs": [
        {
          "output_type": "execute_result",
          "data": {
            "text/plain": [
              "tensor([[1., 2., 3., 4., 5., 6., 7., 8., 9.],\n",
              "        [1., 2., 3., 4., 5., 6., 7., 8., 9.],\n",
              "        [1., 2., 3., 4., 5., 6., 7., 8., 9.],\n",
              "        [1., 2., 3., 4., 5., 6., 7., 8., 9.]])"
            ]
          },
          "metadata": {},
          "execution_count": 8
        }
      ]
    },
    {
      "cell_type": "code",
      "source": [
        "Xstacked = torch.stack([x, x, x, x], dim=1)\n",
        "Xstacked"
      ],
      "metadata": {
        "colab": {
          "base_uri": "https://localhost:8080/"
        },
        "id": "xmz8zcpzsjEm",
        "outputId": "a657ccc9-d56d-4665-f72d-adf8ea8cd686"
      },
      "execution_count": 9,
      "outputs": [
        {
          "output_type": "execute_result",
          "data": {
            "text/plain": [
              "tensor([[1., 1., 1., 1.],\n",
              "        [2., 2., 2., 2.],\n",
              "        [3., 3., 3., 3.],\n",
              "        [4., 4., 4., 4.],\n",
              "        [5., 5., 5., 5.],\n",
              "        [6., 6., 6., 6.],\n",
              "        [7., 7., 7., 7.],\n",
              "        [8., 8., 8., 8.],\n",
              "        [9., 9., 9., 9.]])"
            ]
          },
          "metadata": {},
          "execution_count": 9
        }
      ]
    },
    {
      "cell_type": "code",
      "source": [
        "Xstacked = torch.hstack([x, x, x, x])\n",
        "Xstacked"
      ],
      "metadata": {
        "colab": {
          "base_uri": "https://localhost:8080/"
        },
        "id": "4xTRIrHeslQD",
        "outputId": "a002f0c4-109f-454e-854b-5c3af543a352"
      },
      "execution_count": 12,
      "outputs": [
        {
          "output_type": "execute_result",
          "data": {
            "text/plain": [
              "tensor([1., 2., 3., 4., 5., 6., 7., 8., 9., 1., 2., 3., 4., 5., 6., 7., 8., 9.,\n",
              "        1., 2., 3., 4., 5., 6., 7., 8., 9., 1., 2., 3., 4., 5., 6., 7., 8., 9.])"
            ]
          },
          "metadata": {},
          "execution_count": 12
        }
      ]
    },
    {
      "cell_type": "code",
      "source": [
        "Xstacked = torch.vstack([x, x, x, x])\n",
        "Xstacked"
      ],
      "metadata": {
        "colab": {
          "base_uri": "https://localhost:8080/"
        },
        "id": "w5Jj_bSwsu0e",
        "outputId": "1404a6ff-0f58-4ba6-f98c-c9886f7ef648"
      },
      "execution_count": 13,
      "outputs": [
        {
          "output_type": "execute_result",
          "data": {
            "text/plain": [
              "tensor([[1., 2., 3., 4., 5., 6., 7., 8., 9.],\n",
              "        [1., 2., 3., 4., 5., 6., 7., 8., 9.],\n",
              "        [1., 2., 3., 4., 5., 6., 7., 8., 9.],\n",
              "        [1., 2., 3., 4., 5., 6., 7., 8., 9.]])"
            ]
          },
          "metadata": {},
          "execution_count": 13
        }
      ]
    },
    {
      "cell_type": "code",
      "source": [
        "#squeeze -> removes all single dimensions from target tensor\n",
        "x = torch.zeros(2, 1, 2, 1, 2)\n",
        "x, x.size()"
      ],
      "metadata": {
        "colab": {
          "base_uri": "https://localhost:8080/"
        },
        "id": "ADjFnxBetQ-i",
        "outputId": "31f9efaa-f4fc-47f8-cc73-2bf3825263d4"
      },
      "execution_count": 21,
      "outputs": [
        {
          "output_type": "execute_result",
          "data": {
            "text/plain": [
              "(tensor([[[[[0., 0.]],\n",
              " \n",
              "           [[0., 0.]]]],\n",
              " \n",
              " \n",
              " \n",
              "         [[[[0., 0.]],\n",
              " \n",
              "           [[0., 0.]]]]]),\n",
              " torch.Size([2, 1, 2, 1, 2]))"
            ]
          },
          "metadata": {},
          "execution_count": 21
        }
      ]
    },
    {
      "cell_type": "code",
      "source": [
        "y = torch.squeeze(x)\n",
        "y, y.size()"
      ],
      "metadata": {
        "colab": {
          "base_uri": "https://localhost:8080/"
        },
        "id": "MOrwQZxguO1q",
        "outputId": "1fcfaf8b-4078-41a3-efad-3c4b72ad1583"
      },
      "execution_count": 18,
      "outputs": [
        {
          "output_type": "execute_result",
          "data": {
            "text/plain": [
              "(tensor([[[0., 0.],\n",
              "          [0., 0.]],\n",
              " \n",
              "         [[0., 0.],\n",
              "          [0., 0.]]]),\n",
              " torch.Size([2, 2, 2]))"
            ]
          },
          "metadata": {},
          "execution_count": 18
        }
      ]
    },
    {
      "cell_type": "markdown",
      "source": [
        "Above torch.size is [2, 1, 2, 1, 2]\n",
        "Now the torch.size is [2,2,2] so it removed 1's"
      ],
      "metadata": {
        "id": "0mkgRTkcvSG3"
      }
    },
    {
      "cell_type": "code",
      "source": [
        "y = torch.squeeze(x, 0)\n",
        "y, y.size()"
      ],
      "metadata": {
        "colab": {
          "base_uri": "https://localhost:8080/"
        },
        "id": "-0z86YB6uXHP",
        "outputId": "ad52ab8b-ad8a-4fda-f36f-2734ba6c2a37"
      },
      "execution_count": 19,
      "outputs": [
        {
          "output_type": "execute_result",
          "data": {
            "text/plain": [
              "(tensor([[[[[0., 0.]],\n",
              " \n",
              "           [[0., 0.]]]],\n",
              " \n",
              " \n",
              " \n",
              "         [[[[0., 0.]],\n",
              " \n",
              "           [[0., 0.]]]]]),\n",
              " torch.Size([2, 1, 2, 1, 2]))"
            ]
          },
          "metadata": {},
          "execution_count": 19
        }
      ]
    },
    {
      "cell_type": "code",
      "source": [
        "y = torch.squeeze(x, (1, 2, 3))\n",
        "y"
      ],
      "metadata": {
        "colab": {
          "base_uri": "https://localhost:8080/"
        },
        "id": "dWGiZcL8ueFC",
        "outputId": "8e4ca835-ed24-4b14-92cf-52b030dc8e1b"
      },
      "execution_count": 20,
      "outputs": [
        {
          "output_type": "execute_result",
          "data": {
            "text/plain": [
              "tensor([[[0., 0.],\n",
              "         [0., 0.]],\n",
              "\n",
              "        [[0., 0.],\n",
              "         [0., 0.]]])"
            ]
          },
          "metadata": {},
          "execution_count": 20
        }
      ]
    },
    {
      "cell_type": "code",
      "source": [
        "print(f\"Previous tensor :  {x}\")\n",
        "print(f\"\\nPrevious shape : {x.shape}\")\n",
        "\n",
        "y = torch.squeeze(x)\n",
        "\n",
        "print(f\"\\nNew Tensor : {y}\")\n",
        "print(f\"\\nNew shape : {y.shape}\")"
      ],
      "metadata": {
        "colab": {
          "base_uri": "https://localhost:8080/"
        },
        "id": "_iVqVQ9PuyhU",
        "outputId": "6650d7e9-1b74-4e3b-ffaa-8046f6dee5b2"
      },
      "execution_count": 26,
      "outputs": [
        {
          "output_type": "stream",
          "name": "stdout",
          "text": [
            "Previous tensor :  tensor([[[[[0., 0.]],\n",
            "\n",
            "          [[0., 0.]]]],\n",
            "\n",
            "\n",
            "\n",
            "        [[[[0., 0.]],\n",
            "\n",
            "          [[0., 0.]]]]])\n",
            "\n",
            "Previous shape : torch.Size([2, 1, 2, 1, 2])\n",
            "\n",
            "New Tensor : tensor([[[0., 0.],\n",
            "         [0., 0.]],\n",
            "\n",
            "        [[0., 0.],\n",
            "         [0., 0.]]])\n",
            "\n",
            "New shape : torch.Size([2, 2, 2])\n"
          ]
        }
      ]
    },
    {
      "cell_type": "markdown",
      "source": [
        "unsqueez -> adds a single dimension to a target tensor at a specific dim."
      ],
      "metadata": {
        "id": "yvvuAZecy6Hd"
      }
    },
    {
      "cell_type": "code",
      "source": [
        "#unsqueez\n",
        "print(f\"Previous target : {y}\")\n",
        "print(f\"\\nPrevious shape : {y.shape}\")\n",
        "\n",
        "z = y.unsqueeze(dim=0)\n",
        "\n",
        "print(f\"\\nNew tensor : {z}\")\n",
        "print(f\"\\nNew Shape : {z.shape}\")"
      ],
      "metadata": {
        "colab": {
          "base_uri": "https://localhost:8080/"
        },
        "id": "bR_vF13Jvs0N",
        "outputId": "fade6228-d6d0-4699-9def-f478cbd5038f"
      },
      "execution_count": 33,
      "outputs": [
        {
          "output_type": "stream",
          "name": "stdout",
          "text": [
            "Previous target : tensor([[[0., 0.],\n",
            "         [0., 0.]],\n",
            "\n",
            "        [[0., 0.],\n",
            "         [0., 0.]]])\n",
            "\n",
            "Previous shape : torch.Size([2, 2, 2])\n",
            "\n",
            "New tensor : tensor([[[[0., 0.],\n",
            "          [0., 0.]],\n",
            "\n",
            "         [[0., 0.],\n",
            "          [0., 0.]]]])\n",
            "\n",
            "New Shape : torch.Size([1, 2, 2, 2])\n"
          ]
        }
      ]
    },
    {
      "cell_type": "markdown",
      "source": [
        "permute -> rearranges the dimensions of a targe in a sepecified order"
      ],
      "metadata": {
        "id": "7eNYwgmm051O"
      }
    },
    {
      "cell_type": "code",
      "source": [
        "#permute -> it returns view of the original tensor with its dimensions changed\n",
        "\n",
        "perr = torch.rand(size=(224, 224, 3)) # {height,width,color}\n",
        "\n",
        "#permuting\n",
        "\n",
        "permutedd = perr.permute(2, 0, 1)\n",
        "print(f\"Previous shape : {perr.shape}\")\n",
        "print(f\"\\nNew shape : {permutedd.shape}\") # {color,height,width}\n"
      ],
      "metadata": {
        "colab": {
          "base_uri": "https://localhost:8080/"
        },
        "id": "-iamA3QN02IC",
        "outputId": "2f11c186-9b9c-4783-a974-055d88912888"
      },
      "execution_count": 52,
      "outputs": [
        {
          "output_type": "stream",
          "name": "stdout",
          "text": [
            "Previous shape : torch.Size([224, 224, 3])\n",
            "\n",
            "New shape : torch.Size([3, 224, 224])\n"
          ]
        }
      ]
    },
    {
      "cell_type": "markdown",
      "source": [
        "Indexing -> similar to indexing in NumPy"
      ],
      "metadata": {
        "id": "vG3vu8Lk3hOw"
      }
    },
    {
      "cell_type": "code",
      "source": [
        "import torch\n",
        "x = torch.arange(1, 10).reshape(1, 3, 3)\n",
        "x,x.shape\n"
      ],
      "metadata": {
        "colab": {
          "base_uri": "https://localhost:8080/"
        },
        "id": "NQCJ5uWG2qNU",
        "outputId": "3615fcfa-6118-4d4f-e81c-2391163895c3"
      },
      "execution_count": 53,
      "outputs": [
        {
          "output_type": "execute_result",
          "data": {
            "text/plain": [
              "(tensor([[[1, 2, 3],\n",
              "          [4, 5, 6],\n",
              "          [7, 8, 9]]]),\n",
              " torch.Size([1, 3, 3]))"
            ]
          },
          "metadata": {},
          "execution_count": 53
        }
      ]
    },
    {
      "cell_type": "code",
      "source": [
        "#indexing\n",
        "print(f\"print 0th index : {x[0]}\")\n",
        "print(f\"\\nprint 1th index : {x[0, 1]}\")\n",
        "print(f\"\\nprint 2ndth index : {x[0, 2, 2]}\")\n",
        "print(f\"\\nprint all elements with index 1 of the 2nd dimension : {x[:, :, 1]}\")"
      ],
      "metadata": {
        "colab": {
          "base_uri": "https://localhost:8080/"
        },
        "id": "jWm9NLLw4guS",
        "outputId": "ae05bd6a-75cc-4645-a7d4-ebf927175994"
      },
      "execution_count": 51,
      "outputs": [
        {
          "output_type": "stream",
          "name": "stdout",
          "text": [
            "print 0th index : tensor([[1, 2, 3],\n",
            "        [4, 5, 6],\n",
            "        [7, 8, 9]])\n",
            "\n",
            "print 1th index : tensor([4, 5, 6])\n",
            "\n",
            "print 2ndth index : 9\n",
            "\n",
            "print all elements with index 1 of the 2nd dimension : tensor([[2, 5, 8]])\n"
          ]
        }
      ]
    },
    {
      "cell_type": "markdown",
      "source": [
        "PyTorch & Numpy :\n",
        "\n",
        "When converting from numpy to pytorch the default dtype of numpy is float 64 but for pytorch its float32\n",
        "\n",
        "array = numpy type\n",
        "tesor = pytorch type\n",
        "\n",
        "we can change arrray -> tensor\n",
        "or tensor -> array"
      ],
      "metadata": {
        "id": "7f8aWTpG8QkM"
      }
    },
    {
      "cell_type": "code",
      "source": [
        "# numpy to tensor\n",
        "\n",
        "import torch\n",
        "import numpy as np\n",
        "\n",
        "array = np.arange(1.0, 8.0)\n",
        "tensor = torch.from_numpy(array)\n",
        "array, tensor"
      ],
      "metadata": {
        "colab": {
          "base_uri": "https://localhost:8080/"
        },
        "id": "t5S2ebF15qQi",
        "outputId": "e5491731-9f1a-49c0-bec2-05a3842d97aa"
      },
      "execution_count": 57,
      "outputs": [
        {
          "output_type": "execute_result",
          "data": {
            "text/plain": [
              "(array([1., 2., 3., 4., 5., 6., 7.]),\n",
              " tensor([1., 2., 3., 4., 5., 6., 7.], dtype=torch.float64))"
            ]
          },
          "metadata": {},
          "execution_count": 57
        }
      ]
    },
    {
      "cell_type": "code",
      "source": [
        "array =array + 1\n",
        "array, tensor"
      ],
      "metadata": {
        "colab": {
          "base_uri": "https://localhost:8080/"
        },
        "id": "QKqAX6OXCDW5",
        "outputId": "adbf41c5-6260-448b-d4ff-4b71a8b446ef"
      },
      "execution_count": 58,
      "outputs": [
        {
          "output_type": "execute_result",
          "data": {
            "text/plain": [
              "(array([2., 3., 4., 5., 6., 7., 8.]),\n",
              " tensor([1., 2., 3., 4., 5., 6., 7.], dtype=torch.float64))"
            ]
          },
          "metadata": {},
          "execution_count": 58
        }
      ]
    },
    {
      "cell_type": "code",
      "source": [
        "# Tensor= 32 to NumPy=64\n",
        "\n",
        "tensor = torch.ones(7)\n",
        "np_tnsr = tensor.numpy()\n",
        "tensor, np_tnsr"
      ],
      "metadata": {
        "colab": {
          "base_uri": "https://localhost:8080/"
        },
        "id": "ZfJjtDnFCVtm",
        "outputId": "8f85c7b1-9e0c-4da2-a8e0-588da3c4cc3c"
      },
      "execution_count": 60,
      "outputs": [
        {
          "output_type": "execute_result",
          "data": {
            "text/plain": [
              "(tensor([1., 1., 1., 1., 1., 1., 1.]),\n",
              " array([1., 1., 1., 1., 1., 1., 1.], dtype=float32))"
            ]
          },
          "metadata": {},
          "execution_count": 60
        }
      ]
    },
    {
      "cell_type": "markdown",
      "source": [
        "Reproducibility -> trying to take random out of random"
      ],
      "metadata": {
        "id": "gZhGmAPgDpEu"
      }
    },
    {
      "cell_type": "code",
      "source": [
        "#reproducibility = reduce the randomness of neural network  using random seed\n",
        "import torch\n",
        "\n",
        "ranA = torch.rand(3, 3)\n",
        "ranB = torch.rand(3, 3)\n",
        "\n",
        "print(ranA)\n",
        "print(ranB)\n",
        "print(ranA == ranB)\n"
      ],
      "metadata": {
        "colab": {
          "base_uri": "https://localhost:8080/"
        },
        "id": "GgOm5xbnDzD_",
        "outputId": "743b4748-6df7-4d8a-deed-78e030bf8ae6"
      },
      "execution_count": 65,
      "outputs": [
        {
          "output_type": "stream",
          "name": "stdout",
          "text": [
            "tensor([[0.6778, 0.0222, 0.6122],\n",
            "        [0.0849, 0.2094, 0.2137],\n",
            "        [0.3597, 0.0273, 0.7122]])\n",
            "tensor([[0.4794, 0.9247, 0.8092],\n",
            "        [0.8667, 0.1040, 0.5762],\n",
            "        [0.0322, 0.8979, 0.0759]])\n",
            "tensor([[False, False, False],\n",
            "        [False, False, False],\n",
            "        [False, False, False]])\n"
          ]
        }
      ]
    },
    {
      "cell_type": "code",
      "source": [
        "# making random but reproducibile tensors [manual_seed]\n",
        "\n",
        "import torch\n",
        "RANDOM_SEED = 42\n",
        "torch.manual_seed(RANDOM_SEED)\n",
        "ranC = torch.rand(3, 4)\n",
        "\n",
        "torch.manual_seed(RANDOM_SEED)\n",
        "ranD = torch.rand(3, 4)\n",
        "\n",
        "print(ranC)\n",
        "print(ranD)\n",
        "print(ranC == ranD) #flavouring the randomness"
      ],
      "metadata": {
        "colab": {
          "base_uri": "https://localhost:8080/"
        },
        "id": "sMZ2z6RfD1tX",
        "outputId": "7dd7a9be-80bd-49e2-a4e4-7cea5d1ff98a"
      },
      "execution_count": 66,
      "outputs": [
        {
          "output_type": "stream",
          "name": "stdout",
          "text": [
            "tensor([[0.8823, 0.9150, 0.3829, 0.9593],\n",
            "        [0.3904, 0.6009, 0.2566, 0.7936],\n",
            "        [0.9408, 0.1332, 0.9346, 0.5936]])\n",
            "tensor([[0.8823, 0.9150, 0.3829, 0.9593],\n",
            "        [0.3904, 0.6009, 0.2566, 0.7936],\n",
            "        [0.9408, 0.1332, 0.9346, 0.5936]])\n",
            "tensor([[True, True, True, True],\n",
            "        [True, True, True, True],\n",
            "        [True, True, True, True]])\n"
          ]
        }
      ]
    },
    {
      "cell_type": "markdown",
      "source": [
        "**Running tensors and pytorch on GPU for Fast Computing**\n",
        "\n",
        "Fast computing = CUDA + NVIDIA Hardware + PyTorch"
      ],
      "metadata": {
        "id": "yrbCSjYmGfax"
      }
    },
    {
      "cell_type": "code",
      "source": [],
      "metadata": {
        "id": "Xicn3xhJF0Ze"
      },
      "execution_count": null,
      "outputs": []
    },
    {
      "cell_type": "code",
      "source": [],
      "metadata": {
        "id": "flrAmpjKGm5R"
      },
      "execution_count": null,
      "outputs": []
    }
  ]
}